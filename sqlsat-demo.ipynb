{
 "cells": [
  {
   "cell_type": "code",
   "execution_count": 1,
   "metadata": {
    "collapsed": true
   },
   "outputs": [],
   "source": [
    "import pydocumentdb\n",
    "import pydocumentdb.document_client as document_client\n",
    "import json\n",
    "\n",
    "# Load config info with values from portal\n",
    "with open('config.json') as config_file:\n",
    "    config = json.load(config_file)\n",
    "\n",
    "# Initialize the Python DocumentDB client\n",
    "client = document_client.DocumentClient(config[\"endPoint\"], {'masterKey': config[\"masterKey\"]})\n",
    "\n",
    "# Initialize link to the collection\n",
    "coll = 'dbs/%s/colls/%s' % (\"wwidb\", \"wwi\")"
   ]
  },
  {
   "cell_type": "code",
   "execution_count": 2,
   "metadata": {
    "collapsed": false
   },
   "outputs": [
    {
     "name": "stdout",
     "output_type": "stream",
     "text": [
      "[{u'_self': u'dbs/+JwVAA==/colls/+JwVANprCwA=/docs/+JwVANprCwAoBAAAAAAAAA==/', u'IsExternalLogonProvider': False, u'_ts': 1495627093, u'EmailAddress': u'billl@fabrikam.com', u'SearchName': u'Bill Bill Lawson', u'PersonId': 27, u'IsSalesperson': False, u'EntityType': u'Person', u'_rid': u'+JwVANprCwAoBAAAAAAAAA==', u'FaxNumber': u'(203) 555-0107', u'IsEmployee': False, u'partitionKey': 27, u'PhoneNumber': u'(203) 555-0107', u'IsPermittedToLogon': False, u'_etag': u'\"0000b1f6-0000-0000-0000-592575550000\"', u'LogonName': u'NO LOGON', u'FullName': u'Bill Lawson', u'_attachments': u'attachments/', u'id': u'F31E9851-F0C2-4FC5-BF92-B808729ABD7D', u'IsSystemUser': True, u'PreferredName': u'Bill'}]\n"
     ]
    }
   ],
   "source": [
    "#Submit a query using QueryDocuments\n",
    "query = {'query' : 'SELECT * FROM p WHERE p.PersonId = 27'}\n",
    "options = {'enableCrossPartitionQuery': True}\n",
    "\n",
    "result_iterable = client.QueryDocuments(coll, query, options)\n",
    "results = list(result_iterable)\n",
    "\n",
    "print results"
   ]
  },
  {
   "cell_type": "code",
   "execution_count": null,
   "metadata": {
    "collapsed": false
   },
   "outputs": [],
   "source": [
    "#Prepare updated document...\n",
    "updated = results[0]\n",
    "updated[\"EmailAddress\"] = 'billl@fabrikam.com'\n",
    "\n",
    "#...and update using UpsertDocument\n",
    "client.UpsertDocument(coll, updated)"
   ]
  },
  {
   "cell_type": "code",
   "execution_count": null,
   "metadata": {
    "collapsed": false
   },
   "outputs": [],
   "source": [
    "#Prepare a new Document...\n",
    "newdoc = {\n",
    "    \"PersonId\": 9999,     \n",
    "    \"IsSalesperson\": False,\n",
    "    \"partitionKey\": 27 % 400,  \n",
    "    \"PhoneNumber\": \"(813) 555-1212\",\n",
    "    \"LogonName\": \"NO LOGON\",\n",
    "    \"FullName\": \"Fred Flintstone\",\n",
    "    \"IsSystemUser\": True,\n",
    "    \"SearchName\": \"Fred Fred Flintstone\",\n",
    "    \"EntityType\": \"Person\",\n",
    "    \"IsEmployee\": False,\n",
    "    \"EmailAddress\": \"fflintstone@slategravelco.com\",\n",
    "    \"IsExternalLogonProvider\": False,    \n",
    "    \"IsPermittedToLogon\": False,\n",
    "    \"PreferredName\": \"Fred\"                            \n",
    "}\n",
    "\n",
    "#...and insert using UpsertDocument\n",
    "client.UpsertDocument(coll, newdoc)"
   ]
  },
  {
   "cell_type": "code",
   "execution_count": null,
   "metadata": {
    "collapsed": true
   },
   "outputs": [],
   "source": [
    "#Delete a document using DeleteDocument\n",
    "id = '3d4d3cba-4262-404c-b71c-fe01beb31e65'\n",
    "deldoc = '%s/docs/%s' % (coll, id)\n",
    "client.DeleteDocument(deldoc)"
   ]
  },
  {
   "cell_type": "code",
   "execution_count": 7,
   "metadata": {
    "collapsed": false
   },
   "outputs": [
    {
     "name": "stdout",
     "output_type": "stream",
     "text": [
      "[{\"PersonId\":2,\"FullName\":\"Kayla Woodcock\",\"OrderId\":1,\"OrderTotal\":2300},{\"PersonId\":2,\"FullName\":\"Kayla Woodcock\",\"OrderId\":45},{\"PersonId\":2,\"FullName\":\"Kayla Woodcock\",\"OrderId\":16,\"OrderTotal\":68},{\"PersonId\":2,\"FullName\":\"Kayla Woodcock\",\"OrderId\":31,\"OrderTotal\":2300},{\"PersonId\":2,\"FullName\":\"Kayla Woodcock\",\"OrderId\":57,\"OrderTotal\":180},{\"PersonId\":3,\"FullName\":\"Hudson Onslow\",\"OrderId\":32,\"OrderTotal\":245},{\"PersonId\":3,\"FullName\":\"Hudson Onslow\",\"OrderId\":80,\"OrderTotal\":78},{\"PersonId\":3,\"FullName\":\"Hudson Onslow\",\"OrderId\":53,\"OrderTotal\":11988},{\"PersonId\":3,\"FullName\":\"Hudson Onslow\",\"OrderId\":5,\"OrderTotal\":128},{\"PersonId\":3,\"FullName\":\"Hudson Onslow\",\"OrderId\":48,\"OrderTotal\":1296},{\"PersonId\":3,\"FullName\":\"Hudson Onslow\",\"OrderId\":11,\"OrderTotal\":13},{\"PersonId\":3,\"FullName\":\"Hudson Onslow\",\"OrderId\":15,\"OrderTotal\":150},{\"PersonId\":6,\"FullName\":\"Sophia Hinton\",\"OrderId\":27,\"OrderTotal\":65},{\"PersonId\":6,\"FullName\":\"Sophia Hinton\",\"OrderId\":83,\"OrderTotal\":6122},{\"PersonId\":6,\"FullName\":\"Sophia Hinton\",\"OrderId\":64,\"OrderTotal\":648},{\"PersonId\":6,\"FullName\":\"Sophia Hinton\",\"OrderId\":67,\"OrderTotal\":4950},{\"PersonId\":6,\"FullName\":\"Sophia Hinton\",\"OrderId\":34,\"OrderTotal\":65},{\"PersonId\":6,\"FullName\":\"Sophia Hinton\",\"OrderId\":21,\"OrderTotal\":482},{\"PersonId\":6,\"FullName\":\"Sophia Hinton\",\"OrderId\":70,\"OrderTotal\":39},{\"PersonId\":6,\"FullName\":\"Sophia Hinton\",\"OrderId\":30,\"OrderTotal\":4348},{\"PersonId\":7,\"FullName\":\"Amy Trefl\",\"OrderId\":50},{\"PersonId\":7,\"FullName\":\"Amy Trefl\",\"OrderId\":82,\"OrderTotal\":234},{\"PersonId\":7,\"FullName\":\"Amy Trefl\",\"OrderId\":19,\"OrderTotal\":91},{\"PersonId\":7,\"FullName\":\"Amy Trefl\",\"OrderId\":91,\"OrderTotal\":1260},{\"PersonId\":7,\"FullName\":\"Amy Trefl\",\"OrderId\":9,\"OrderTotal\":50},{\"PersonId\":7,\"FullName\":\"Amy Trefl\",\"OrderId\":59,\"OrderTotal\":7884},{\"PersonId\":7,\"FullName\":\"Amy Trefl\",\"OrderId\":62},{\"PersonId\":7,\"FullName\":\"Amy Trefl\",\"OrderId\":51,\"OrderTotal\":432},{\"PersonId\":7,\"FullName\":\"Amy Trefl\",\"OrderId\":47,\"OrderTotal\":4950},{\"PersonId\":7,\"FullName\":\"Amy Trefl\",\"OrderId\":8,\"OrderTotal\":130},{\"PersonId\":7,\"FullName\":\"Amy Trefl\",\"OrderId\":23,\"OrderTotal\":471},{\"PersonId\":7,\"FullName\":\"Amy Trefl\",\"OrderId\":3,\"OrderTotal\":90},{\"PersonId\":8,\"FullName\":\"Anthony Grosse\",\"OrderId\":96,\"OrderTotal\":1766},{\"PersonId\":8,\"FullName\":\"Anthony Grosse\",\"OrderId\":14,\"OrderTotal\":280},{\"PersonId\":8,\"FullName\":\"Anthony Grosse\",\"OrderId\":71,\"OrderTotal\":266},{\"PersonId\":8,\"FullName\":\"Anthony Grosse\",\"OrderId\":58,\"OrderTotal\":1697},{\"PersonId\":8,\"FullName\":\"Anthony Grosse\",\"OrderId\":66},{\"PersonId\":8,\"FullName\":\"Anthony Grosse\",\"OrderId\":46,\"OrderTotal\":4176},{\"PersonId\":8,\"FullName\":\"Anthony Grosse\",\"OrderId\":35,\"OrderTotal\":360},{\"PersonId\":8,\"FullName\":\"Anthony Grosse\",\"OrderId\":49},{\"PersonId\":8,\"FullName\":\"Anthony Grosse\",\"OrderId\":2,\"OrderTotal\":117},{\"PersonId\":8,\"FullName\":\"Anthony Grosse\",\"OrderId\":7,\"OrderTotal\":149},{\"PersonId\":8,\"FullName\":\"Anthony Grosse\",\"OrderId\":77,\"OrderTotal\":4968},{\"PersonId\":8,\"FullName\":\"Anthony Grosse\",\"OrderId\":17,\"OrderTotal\":424},{\"PersonId\":8,\"FullName\":\"Anthony Grosse\",\"OrderId\":85,\"OrderTotal\":1296},{\"PersonId\":8,\"FullName\":\"Anthony Grosse\",\"OrderId\":56,\"OrderTotal\":3240},{\"PersonId\":8,\"FullName\":\"Anthony Grosse\",\"OrderId\":98,\"OrderTotal\":182},{\"PersonId\":8,\"FullName\":\"Anthony Grosse\",\"OrderId\":42,\"OrderTotal\":130},{\"PersonId\":8,\"FullName\":\"Anthony Grosse\",\"OrderId\":90,\"OrderTotal\":572},{\"PersonId\":13,\"FullName\":\"Hudson Hollinworth\",\"OrderId\":55,\"OrderTotal\":3024},{\"PersonId\":13,\"FullName\":\"Hudson Hollinworth\",\"OrderId\":44,\"OrderTotal\":90},{\"PersonId\":13,\"FullName\":\"Hudson Hollinworth\",\"OrderId\":6,\"OrderTotal\":366},{\"PersonId\":13,\"FullName\":\"Hudson Hollinworth\",\"OrderId\":13,\"OrderTotal\":2280},{\"PersonId\":14,\"FullName\":\"Lily Code\",\"OrderId\":60,\"OrderTotal\":1937},{\"PersonId\":14,\"FullName\":\"Lily Code\",\"OrderId\":20,\"OrderTotal\":1265},{\"PersonId\":14,\"FullName\":\"Lily Code\",\"OrderId\":94,\"OrderTotal\":360},{\"PersonId\":14,\"FullName\":\"Lily Code\",\"OrderId\":100,\"OrderTotal\":273},{\"PersonId\":14,\"FullName\":\"Lily Code\",\"OrderId\":37,\"OrderTotal\":503},{\"PersonId\":15,\"FullName\":\"Taj Shand\",\"OrderId\":40,\"OrderTotal\":130},{\"PersonId\":15,\"FullName\":\"Taj Shand\",\"OrderId\":63,\"OrderTotal\":1296},{\"PersonId\":15,\"FullName\":\"Taj Shand\",\"OrderId\":41,\"OrderTotal\":26},{\"PersonId\":15,\"FullName\":\"Taj Shand\",\"OrderId\":84,\"OrderTotal\":308},{\"PersonId\":15,\"FullName\":\"Taj Shand\",\"OrderId\":26},{\"PersonId\":15,\"FullName\":\"Taj Shand\",\"OrderId\":76,\"OrderTotal\":6420},{\"PersonId\":15,\"FullName\":\"Taj Shand\",\"OrderId\":72},{\"PersonId\":15,\"FullName\":\"Taj Shand\",\"OrderId\":25,\"OrderTotal\":1202},{\"PersonId\":15,\"FullName\":\"Taj Shand\",\"OrderId\":12,\"OrderTotal\":229},{\"PersonId\":15,\"FullName\":\"Taj Shand\",\"OrderId\":54},{\"PersonId\":15,\"FullName\":\"Taj Shand\",\"OrderId\":97,\"OrderTotal\":451},{\"PersonId\":15,\"FullName\":\"Taj Shand\",\"OrderId\":75,\"OrderTotal\":1080},{\"PersonId\":15,\"FullName\":\"Taj Shand\",\"OrderId\":36},{\"PersonId\":16,\"FullName\":\"Archer Lamble\",\"OrderId\":95,\"OrderTotal\":346},{\"PersonId\":16,\"FullName\":\"Archer Lamble\",\"OrderId\":38,\"OrderTotal\":200},{\"PersonId\":16,\"FullName\":\"Archer Lamble\",\"OrderId\":24,\"OrderTotal\":32},{\"PersonId\":16,\"FullName\":\"Archer Lamble\",\"OrderId\":87,\"OrderTotal\":1446},{\"PersonId\":16,\"FullName\":\"Archer Lamble\",\"OrderId\":4,\"OrderTotal\":186},{\"PersonId\":20,\"FullName\":\"Jack Potter\",\"OrderId\":78,\"OrderTotal\":5036},{\"PersonId\":20,\"FullName\":\"Jack Potter\",\"OrderId\":52},{\"PersonId\":20,\"FullName\":\"Jack Potter\",\"OrderId\":33,\"OrderTotal\":100},{\"PersonId\":20,\"FullName\":\"Jack Potter\",\"OrderId\":69},{\"PersonId\":20,\"FullName\":\"Jack Potter\",\"OrderId\":28,\"OrderTotal\":13}]\n"
     ]
    }
   ],
   "source": [
    "# Init & execute sproc using ExecuteStoredProcedure\n",
    "sp = '%s/sprocs/%s' % (coll, 'spJoinOrderSalesperson')\n",
    "result = client.ExecuteStoredProcedure(sp, None)\n",
    "print result"
   ]
  },
  {
   "cell_type": "code",
   "execution_count": 8,
   "metadata": {
    "collapsed": false
   },
   "outputs": [
    {
     "name": "stdout",
     "output_type": "stream",
     "text": [
      "              FullName  OrderId  OrderTotal  PersonId\n",
      "0       Kayla Woodcock        1      2300.0         2\n",
      "1       Kayla Woodcock       45         NaN         2\n",
      "2       Kayla Woodcock       16        68.0         2\n",
      "3       Kayla Woodcock       31      2300.0         2\n",
      "4       Kayla Woodcock       57       180.0         2\n",
      "5        Hudson Onslow       32       245.0         3\n",
      "6        Hudson Onslow       80        78.0         3\n",
      "7        Hudson Onslow       53     11988.0         3\n",
      "8        Hudson Onslow        5       128.0         3\n",
      "9        Hudson Onslow       48      1296.0         3\n",
      "10       Hudson Onslow       11        13.0         3\n",
      "11       Hudson Onslow       15       150.0         3\n",
      "12       Sophia Hinton       27        65.0         6\n",
      "13       Sophia Hinton       83      6122.0         6\n",
      "14       Sophia Hinton       64       648.0         6\n",
      "15       Sophia Hinton       67      4950.0         6\n",
      "16       Sophia Hinton       34        65.0         6\n",
      "17       Sophia Hinton       21       482.0         6\n",
      "18       Sophia Hinton       70        39.0         6\n",
      "19       Sophia Hinton       30      4348.0         6\n",
      "20           Amy Trefl       50         NaN         7\n",
      "21           Amy Trefl       82       234.0         7\n",
      "22           Amy Trefl       19        91.0         7\n",
      "23           Amy Trefl       91      1260.0         7\n",
      "24           Amy Trefl        9        50.0         7\n",
      "25           Amy Trefl       59      7884.0         7\n",
      "26           Amy Trefl       62         NaN         7\n",
      "27           Amy Trefl       51       432.0         7\n",
      "28           Amy Trefl       47      4950.0         7\n",
      "29           Amy Trefl        8       130.0         7\n",
      "..                 ...      ...         ...       ...\n",
      "51  Hudson Hollinworth        6       366.0        13\n",
      "52  Hudson Hollinworth       13      2280.0        13\n",
      "53           Lily Code       60      1937.0        14\n",
      "54           Lily Code       20      1265.0        14\n",
      "55           Lily Code       94       360.0        14\n",
      "56           Lily Code      100       273.0        14\n",
      "57           Lily Code       37       503.0        14\n",
      "58           Taj Shand       40       130.0        15\n",
      "59           Taj Shand       63      1296.0        15\n",
      "60           Taj Shand       41        26.0        15\n",
      "61           Taj Shand       84       308.0        15\n",
      "62           Taj Shand       26         NaN        15\n",
      "63           Taj Shand       76      6420.0        15\n",
      "64           Taj Shand       72         NaN        15\n",
      "65           Taj Shand       25      1202.0        15\n",
      "66           Taj Shand       12       229.0        15\n",
      "67           Taj Shand       54         NaN        15\n",
      "68           Taj Shand       97       451.0        15\n",
      "69           Taj Shand       75      1080.0        15\n",
      "70           Taj Shand       36         NaN        15\n",
      "71       Archer Lamble       95       346.0        16\n",
      "72       Archer Lamble       38       200.0        16\n",
      "73       Archer Lamble       24        32.0        16\n",
      "74       Archer Lamble       87      1446.0        16\n",
      "75       Archer Lamble        4       186.0        16\n",
      "76         Jack Potter       78      5036.0        20\n",
      "77         Jack Potter       52         NaN        20\n",
      "78         Jack Potter       33       100.0        20\n",
      "79         Jack Potter       69         NaN        20\n",
      "80         Jack Potter       28        13.0        20\n",
      "\n",
      "[81 rows x 4 columns]\n"
     ]
    }
   ],
   "source": [
    "# BONUS 1: Use pandas to navigate the results\n",
    "import pandas as pd\n",
    "df = pd.read_json(result)\n",
    "print df"
   ]
  },
  {
   "cell_type": "code",
   "execution_count": 9,
   "metadata": {
    "collapsed": false,
    "scrolled": false
   },
   "outputs": [
    {
     "name": "stdout",
     "output_type": "stream",
     "text": [
      "FullName\n",
      "Amy Trefl             15592.0\n",
      "Anthony Grosse        19623.0\n",
      "Archer Lamble          2210.0\n",
      "Hudson Hollinworth     5760.0\n",
      "Hudson Onslow         13898.0\n",
      "Jack Potter            5149.0\n",
      "Kayla Woodcock         4848.0\n",
      "Lily Code              4338.0\n",
      "Sophia Hinton         16719.0\n",
      "Taj Shand             11142.0\n",
      "Name: OrderTotal, dtype: float64\n"
     ]
    }
   ],
   "source": [
    "# BONUS 2: Pandas group by\n",
    "subtotal = df.groupby('FullName')['OrderTotal'].sum()\n",
    "print subtotal"
   ]
  },
  {
   "cell_type": "code",
   "execution_count": 6,
   "metadata": {
    "collapsed": false
   },
   "outputs": [
    {
     "data": {
      "text/plain": [
       "<matplotlib.axes._subplots.AxesSubplot at 0x9da3160>"
      ]
     },
     "execution_count": 6,
     "metadata": {},
     "output_type": "execute_result"
    },
    {
     "data": {
      "image/png": "[encoded data removed]",
      "text/plain": [
       "<matplotlib.figure.Figure at 0xa35ce10>"
      ]
     },
     "metadata": {},
     "output_type": "display_data"
    }
   ],
   "source": [
    "# BONUS 3: Bar plot\n",
    "%matplotlib inline\n",
    "import matplotlib.pyplot as plt\n",
    "\n",
    "subtotal.plot(kind='bar')"
   ]
  },
  {
   "cell_type": "code",
   "execution_count": null,
   "metadata": {
    "collapsed": true
   },
   "outputs": [],
   "source": []
  }
 ],
 "metadata": {
  "kernelspec": {
   "display_name": "Python 2",
   "language": "python",
   "name": "python2"
  },
  "language_info": {
   "codemirror_mode": {
    "name": "ipython",
    "version": 2
   },
   "file_extension": ".py",
   "mimetype": "text/x-python",
   "name": "python",
   "nbconvert_exporter": "python",
   "pygments_lexer": "ipython2",
   "version": "2.7.13"
  }
 },
 "nbformat": 4,
 "nbformat_minor": 2
}
